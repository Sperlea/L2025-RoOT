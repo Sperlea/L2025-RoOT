{
 "cells": [
  {
   "cell_type": "markdown",
   "id": "f56c2769",
   "metadata": {},
   "source": [
    "Feature importances are a way to look into why/how a model makes its decisions."
   ]
  },
  {
   "cell_type": "markdown",
   "id": "8c55b182",
   "metadata": {},
   "source": [
    "import joblib\n",
    "import pandas as pd\n",
    "\n",
    "\n",
    "\n",
    "clf = joblib.load(\"../clfmodel.pkl\")\n",
    "\n",
    "feature_importances = clf.feature_importances_\n"
   ]
  },
  {
   "cell_type": "markdown",
   "id": "892fee02",
   "metadata": {},
   "source": [
    "Let's take a quick look into the importance values and their distribution."
   ]
  },
  {
   "cell_type": "code",
   "execution_count": null,
   "id": "91c3dc8c",
   "metadata": {},
   "outputs": [],
   "source": [
    "import matplotlib.pyplot as plt\n",
    "\n",
    "plt.plot(sorted(feature_importances))\n",
    "plt.show()\n",
    "\n",
    "print(len(feature_importances), sum(feature_importances == 0))"
   ]
  },
  {
   "cell_type": "markdown",
   "id": "5f6f486c",
   "metadata": {},
   "source": [
    "As quite some features received an importance of zero, why not remove them from the embedding?"
   ]
  },
  {
   "cell_type": "code",
   "execution_count": null,
   "id": "74ebe720",
   "metadata": {},
   "outputs": [],
   "source": [
    "df = joblib.load(\"../embedded_photos_labelled.pkl\")\n",
    "df[\"filtered_embedding\"] = pd.Series( entry[feature_importances != 0] for entry in df[\"embedding\"] )\n",
    "joblib.dump(df, \"../embedded_photos_labelled_selected.pkl\")\n",
    "\n",
    "df = joblib.load(\"../embedded_photos_all_labelled.pkl\")\n",
    "df[\"filtered_embedding\"] = pd.Series( entry[feature_importances != 0] for entry in df[\"embedding\"] )\n",
    "joblib.dump(df, \"../embedded_photos_all_labelled_selected.pkl\")"
   ]
  }
 ],
 "metadata": {
  "kernelspec": {
   "display_name": "Python 3 (ipykernel)",
   "language": "python",
   "name": "python3"
  },
  "language_info": {
   "codemirror_mode": {
    "name": "ipython",
    "version": 3
   },
   "file_extension": ".py",
   "mimetype": "text/x-python",
   "name": "python",
   "nbconvert_exporter": "python",
   "pygments_lexer": "ipython3",
   "version": "3.12.3"
  }
 },
 "nbformat": 4,
 "nbformat_minor": 5
}
