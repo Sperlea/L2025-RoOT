{
 "cells": [
  {
   "cell_type": "markdown",
   "id": "cb39a2f5",
   "metadata": {},
   "source": [
    "We have vector embeddings of all images and labels for some of them. Instead of simply trusting the RF output, we might want to use some methods from semi-supervised learning to check these. So we'll try to visualize the images in relation to each other using dimensionality reduction methods. But let's first load the data."
   ]
  },
  {
   "cell_type": "code",
   "execution_count": 1,
   "id": "22380896",
   "metadata": {},
   "outputs": [
    {
     "ename": "ModuleNotFoundError",
     "evalue": "No module named 'pandas'",
     "output_type": "error",
     "traceback": [
      "\u001b[0;31m---------------------------------------------------------------------------\u001b[0m",
      "\u001b[0;31mModuleNotFoundError\u001b[0m                       Traceback (most recent call last)",
      "Cell \u001b[0;32mIn[1], line 1\u001b[0m\n\u001b[0;32m----> 1\u001b[0m \u001b[38;5;28;01mimport\u001b[39;00m \u001b[38;5;21;01mpandas\u001b[39;00m \u001b[38;5;28;01mas\u001b[39;00m \u001b[38;5;21;01mpd\u001b[39;00m\n\u001b[1;32m      2\u001b[0m \u001b[38;5;28;01mimport\u001b[39;00m \u001b[38;5;21;01mjoblib\u001b[39;00m\n\u001b[1;32m      4\u001b[0m training_vector_data \u001b[38;5;241m=\u001b[39m joblib\u001b[38;5;241m.\u001b[39mload(\u001b[38;5;124m\"\u001b[39m\u001b[38;5;124m/home/sperlea/Desktop/project_auto_microscopy/scripts/playground/data/embedded_training_data_selected.pkl\u001b[39m\u001b[38;5;124m\"\u001b[39m)\n",
      "\u001b[0;31mModuleNotFoundError\u001b[0m: No module named 'pandas'"
     ]
    }
   ],
   "source": [
    "import pandas as pd\n",
    "import joblib\n",
    "\n",
    "training_vector_data = joblib.load(\"/home/sperlea/Desktop/project_auto_microscopy/scripts/playground/data/embedded_training_data_selected.pkl\")\n",
    "training_vector_data[\"source\"] = \"training\"\n",
    "IOW_vector_data = joblib.load(\"/home/sperlea/Desktop/project_auto_microscopy/scripts/playground/data/embedded_photos_labelled_selected.pkl\")\n",
    "IOW_vector_data[\"source\"] = \"IOW\"\n",
    "vector_data = pd.concat([training_vector_data, IOW_vector_data])\n",
    "vector_data = vector_data.reset_index()\n"
   ]
  },
  {
   "cell_type": "markdown",
   "id": "46b2fd43",
   "metadata": {},
   "source": [
    "There are many different methods for dimensionality reduction - we'll look into PCA, MDS and T-SNE. "
   ]
  },
  {
   "cell_type": "code",
   "execution_count": null,
   "id": "be76b180",
   "metadata": {},
   "outputs": [],
   "source": [
    "import numpy as np\n",
    "from sklearn.decomposition import PCA\n",
    "\n",
    "##TODO fill in!"
   ]
  },
  {
   "cell_type": "code",
   "execution_count": null,
   "id": "ebcdc1c1",
   "metadata": {},
   "outputs": [],
   "source": [
    "import numpy as np\n",
    "from sklearn.manifold import MDS\n",
    "\n",
    "##TODO fill in!"
   ]
  },
  {
   "cell_type": "code",
   "execution_count": null,
   "id": "6a39112d",
   "metadata": {},
   "outputs": [],
   "source": [
    "import numpy as np\n",
    "from sklearn.manifold import TSNE\n",
    "\n",
    "##TODO fill in!"
   ]
  },
  {
   "cell_type": "code",
   "execution_count": null,
   "id": "56e4de6a",
   "metadata": {},
   "outputs": [],
   "source": [
    "##And let's look at the results.\n",
    "\n",
    "import matplotlib.pyplot as plt\n",
    "\n",
    "fig, ax = plt.subplots() ##prepare a canvas to draw on\n",
    "for type_ in set(vector_data[\"class\"].values): ## plot one class after the other in order to have a color legend\n",
    "    ax.scatter(\n",
    "        dimred_vector_data[(vector_data[\"class\"].values == type_) &\n",
    "                            (vector_data[\"source\"]  == \"training\"), 0],\n",
    "        dimred_vector_data[(vector_data[\"class\"].values == type_) &\n",
    "                           (vector_data[\"source\"]  == \"training\"), 1],\n",
    "        marker='o',color = \"black\", s=100) ##Highlight the images from the training data using black circles\n",
    "\n",
    "    ax.scatter(\n",
    "        dimred_vector_data[vector_data[\"class\"].values == type_, 0],\n",
    "        dimred_vector_data[vector_data[\"class\"].values == type_, 1],\n",
    "        marker = 'o', label = type_) ##plot all vectors in colors\n",
    "\n",
    "ax.legend()\n",
    "plt.show()"
   ]
  },
  {
   "cell_type": "code",
   "execution_count": null,
   "id": "4c9fb0fc",
   "metadata": {},
   "outputs": [],
   "source": [
    "##Let's make it easier for us to look into the data\n",
    "dimred_vector_data = pd.DataFrame(dimred_vector_data)\n",
    "dimred_vector_data[\"class\"] = vector_data[\"class\"]\n",
    "dimred_vector_data[\"source\"] = vector_data[\"source\"]"
   ]
  }
 ],
 "metadata": {
  "kernelspec": {
   "display_name": "Python 3 (ipykernel)",
   "language": "python",
   "name": "python3"
  },
  "language_info": {
   "codemirror_mode": {
    "name": "ipython",
    "version": 3
   },
   "file_extension": ".py",
   "mimetype": "text/x-python",
   "name": "python",
   "nbconvert_exporter": "python",
   "pygments_lexer": "ipython3",
   "version": "3.12.3"
  }
 },
 "nbformat": 4,
 "nbformat_minor": 5
}
